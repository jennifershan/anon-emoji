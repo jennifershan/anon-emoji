{
 "cells": [
  {
   "cell_type": "markdown",
   "id": "27e459bd",
   "metadata": {},
   "source": [
    "# Anonymous Twitter User Collection\n",
    "\n",
    "Jennifer Shan\n",
    "\n",
    "1. [Collecting followers and following](#collect)\n",
    "2. [Checking for alphanumeric variations of 'anonymous' and 'legion'](#filter)\n",
    "3. [Applying DecisionTreeClassifier and RandomForestClassifier](#apply)\n",
    "4. [Collecting Anonymous-affiliated tweets](#anon)\n",
    "5. [Collecting randomly sampled tweets](#random)"
   ]
  },
  {
   "cell_type": "code",
   "execution_count": null,
   "id": "30f20187",
   "metadata": {},
   "outputs": [],
   "source": [
    "bearer_token = ''"
   ]
  },
  {
   "cell_type": "code",
   "execution_count": null,
   "id": "0a27c84a",
   "metadata": {},
   "outputs": [],
   "source": [
    "consumer_key = ''\n",
    "consumer_secret = ''"
   ]
  },
  {
   "cell_type": "code",
   "execution_count": null,
   "id": "5502b23d",
   "metadata": {},
   "outputs": [],
   "source": [
    "access_token = ''\n",
    "access_token_secret = ''"
   ]
  },
  {
   "cell_type": "code",
   "execution_count": 2,
   "id": "e245936b",
   "metadata": {},
   "outputs": [],
   "source": [
    "import tweepy"
   ]
  },
  {
   "cell_type": "code",
   "execution_count": 3,
   "id": "7a8723c9",
   "metadata": {},
   "outputs": [],
   "source": [
    "auth = tweepy.OAuthHandler(consumer_key, consumer_secret)\n",
    "auth.set_access_token(access_token, access_token_secret)\n",
    "\n",
    "api = tweepy.API(auth, wait_on_rate_limit = True)"
   ]
  },
  {
   "cell_type": "markdown",
   "id": "0271d3a0",
   "metadata": {},
   "source": [
    "We specify our seed accounts."
   ]
  },
  {
   "cell_type": "code",
   "execution_count": 4,
   "id": "8f707207",
   "metadata": {},
   "outputs": [],
   "source": [
    "ausers = ['AnonyOps', 'YourAnonNews', 'YourAnonCentral', 'AnonPress']"
   ]
  },
  {
   "cell_type": "markdown",
   "id": "04dfac9a",
   "metadata": {},
   "source": [
    "<a id=\"collect\"></a>\n",
    "**1. Collecting followers and following**  \n",
    "We collect a list of followers and a list of followed users."
   ]
  },
  {
   "cell_type": "code",
   "execution_count": 6,
   "id": "f88acb7f",
   "metadata": {},
   "outputs": [],
   "source": [
    "import json"
   ]
  },
  {
   "cell_type": "markdown",
   "id": "4f291e47",
   "metadata": {},
   "source": [
    "We only grab 5000 followers for every seed account."
   ]
  },
  {
   "cell_type": "code",
   "execution_count": 197,
   "id": "51063018",
   "metadata": {
    "scrolled": true
   },
   "outputs": [],
   "source": [
    "flwrs = {}\n",
    "\n",
    "for a in ausers:\n",
    "    flwrs[a] = []\n",
    "    for page in tweepy.Cursor(api.get_follower_ids, screen_name = a).pages():\n",
    "        flwrs[a].extend(page)\n",
    "        break"
   ]
  },
  {
   "cell_type": "code",
   "execution_count": 122,
   "id": "6e7e9f53",
   "metadata": {},
   "outputs": [],
   "source": [
    "flwng = {}\n",
    "\n",
    "for a in ausers:\n",
    "    flwng[a] = []\n",
    "    for page in tweepy.Cursor(api.get_friend_ids, screen_name = a).pages():\n",
    "        flwng[a].extend(page)"
   ]
  },
  {
   "cell_type": "markdown",
   "id": "8c0aecdb",
   "metadata": {},
   "source": [
    "Let's check what we're dealing with."
   ]
  },
  {
   "cell_type": "code",
   "execution_count": 198,
   "id": "df3f1665",
   "metadata": {
    "scrolled": true
   },
   "outputs": [
    {
     "name": "stdout",
     "output_type": "stream",
     "text": [
      "AnonyOps 5000 1141\n",
      "YourAnonNews 5000 807\n",
      "YourAnonCentral 5000 665\n",
      "AnonPress 5000 101\n"
     ]
    }
   ],
   "source": [
    "for a in ausers:\n",
    "    print(a, len(flwrs[a]), len(flwng[a]))"
   ]
  },
  {
   "cell_type": "markdown",
   "id": "ccacb1a7",
   "metadata": {},
   "source": [
    "We don't want to run this again."
   ]
  },
  {
   "cell_type": "code",
   "execution_count": 199,
   "id": "decb841d",
   "metadata": {},
   "outputs": [],
   "source": [
    "with open('flwrs.json', 'w') as f:\n",
    "    json.dump(flwrs, f)\n",
    "with open('flwng.json', 'w') as f:\n",
    "    json.dump(flwng, f)"
   ]
  },
  {
   "cell_type": "markdown",
   "id": "132e8cd6",
   "metadata": {},
   "source": [
    "<a id=\"filter\"></a>\n",
    "**2. Checking for alphanumeric variations of 'anonymous' and 'legion'**  \n",
    "We can filter out variations of 'anonymous' and 'legion' from our users since these are probably Anonymous-affiliated."
   ]
  },
  {
   "cell_type": "code",
   "execution_count": 13,
   "id": "fc13c84a",
   "metadata": {},
   "outputs": [],
   "source": [
    "flwrs = json.load(open('flwrs.json'))\n",
    "flwng = json.load(open('flwng.json'))"
   ]
  },
  {
   "cell_type": "code",
   "execution_count": 11,
   "id": "2d26eb01",
   "metadata": {
    "scrolled": true
   },
   "outputs": [],
   "source": [
    "variations = ('anonymous an0nym0u5 anonymou5 an0nymous anonym0us anonym0u5 '\n",
    "              'an0nymou5 an0nym0us anony legion leg1on an0ny anon l3gion legi0n '\n",
    "              'l3g1on leg10n an0n le3gi0n l3g10n')\n",
    "variations = variations.split()"
   ]
  },
  {
   "cell_type": "markdown",
   "id": "e2d73456",
   "metadata": {},
   "source": [
    "We check for variations of 'anonymous' and 'legion' in username or screenname and description."
   ]
  },
  {
   "cell_type": "code",
   "execution_count": 25,
   "id": "4d517a3a",
   "metadata": {
    "scrolled": true
   },
   "outputs": [
    {
     "name": "stderr",
     "output_type": "stream",
     "text": [
      "Rate limit reached. Sleeping for: 421\n"
     ]
    },
    {
     "name": "stdout",
     "output_type": "stream",
     "text": [
      "403 Forbidden\n",
      "63 - User has been suspended.\n",
      "404 Not Found\n",
      "50 - User not found.\n"
     ]
    },
    {
     "name": "stderr",
     "output_type": "stream",
     "text": [
      "Rate limit reached. Sleeping for: 647\n"
     ]
    },
    {
     "name": "stdout",
     "output_type": "stream",
     "text": [
      "404 Not Found\n",
      "50 - User not found.\n"
     ]
    },
    {
     "name": "stderr",
     "output_type": "stream",
     "text": [
      "Rate limit reached. Sleeping for: 650\n",
      "Rate limit reached. Sleeping for: 661\n"
     ]
    },
    {
     "name": "stdout",
     "output_type": "stream",
     "text": [
      "403 Forbidden\n",
      "63 - User has been suspended.\n"
     ]
    },
    {
     "name": "stderr",
     "output_type": "stream",
     "text": [
      "Rate limit reached. Sleeping for: 662\n",
      "Rate limit reached. Sleeping for: 711\n"
     ]
    },
    {
     "name": "stdout",
     "output_type": "stream",
     "text": [
      "403 Forbidden\n",
      "63 - User has been suspended.\n",
      "403 Forbidden\n",
      "63 - User has been suspended.\n",
      "404 Not Found\n",
      "50 - User not found.\n",
      "404 Not Found\n",
      "50 - User not found.\n"
     ]
    },
    {
     "name": "stderr",
     "output_type": "stream",
     "text": [
      "Rate limit reached. Sleeping for: 714\n"
     ]
    },
    {
     "name": "stdout",
     "output_type": "stream",
     "text": [
      "404 Not Found\n",
      "50 - User not found.\n",
      "404 Not Found\n",
      "50 - User not found.\n",
      "404 Not Found\n",
      "50 - User not found.\n",
      "404 Not Found\n",
      "50 - User not found.\n"
     ]
    },
    {
     "name": "stderr",
     "output_type": "stream",
     "text": [
      "Rate limit reached. Sleeping for: 727\n"
     ]
    },
    {
     "name": "stdout",
     "output_type": "stream",
     "text": [
      "404 Not Found\n",
      "50 - User not found.\n",
      "404 Not Found\n",
      "50 - User not found.\n",
      "404 Not Found\n",
      "50 - User not found.\n"
     ]
    },
    {
     "name": "stderr",
     "output_type": "stream",
     "text": [
      "Rate limit reached. Sleeping for: 727\n"
     ]
    },
    {
     "name": "stdout",
     "output_type": "stream",
     "text": [
      "404 Not Found\n",
      "50 - User not found.\n",
      "404 Not Found\n",
      "50 - User not found.\n"
     ]
    },
    {
     "name": "stderr",
     "output_type": "stream",
     "text": [
      "Rate limit reached. Sleeping for: 728\n"
     ]
    },
    {
     "name": "stdout",
     "output_type": "stream",
     "text": [
      "404 Not Found\n",
      "50 - User not found.\n",
      "403 Forbidden\n",
      "63 - User has been suspended.\n",
      "403 Forbidden\n",
      "63 - User has been suspended.\n",
      "404 Not Found\n",
      "50 - User not found.\n"
     ]
    },
    {
     "name": "stderr",
     "output_type": "stream",
     "text": [
      "Rate limit reached. Sleeping for: 726\n"
     ]
    },
    {
     "name": "stdout",
     "output_type": "stream",
     "text": [
      "403 Forbidden\n",
      "63 - User has been suspended.\n",
      "403 Forbidden\n",
      "63 - User has been suspended.\n",
      "403 Forbidden\n",
      "63 - User has been suspended.\n"
     ]
    },
    {
     "name": "stderr",
     "output_type": "stream",
     "text": [
      "Rate limit reached. Sleeping for: 697\n"
     ]
    },
    {
     "name": "stdout",
     "output_type": "stream",
     "text": [
      "404 Not Found\n",
      "50 - User not found.\n",
      "404 Not Found\n",
      "50 - User not found.\n",
      "404 Not Found\n",
      "50 - User not found.\n",
      "404 Not Found\n",
      "50 - User not found.\n",
      "403 Forbidden\n",
      "63 - User has been suspended.\n",
      "403 Forbidden\n",
      "63 - User has been suspended.\n"
     ]
    },
    {
     "name": "stderr",
     "output_type": "stream",
     "text": [
      "Rate limit reached. Sleeping for: 733\n"
     ]
    },
    {
     "name": "stdout",
     "output_type": "stream",
     "text": [
      "404 Not Found\n",
      "50 - User not found.\n",
      "404 Not Found\n",
      "50 - User not found.\n"
     ]
    },
    {
     "name": "stderr",
     "output_type": "stream",
     "text": [
      "Rate limit reached. Sleeping for: 712\n"
     ]
    },
    {
     "name": "stdout",
     "output_type": "stream",
     "text": [
      "403 Forbidden\n",
      "63 - User has been suspended.\n",
      "404 Not Found\n",
      "50 - User not found.\n"
     ]
    },
    {
     "name": "stderr",
     "output_type": "stream",
     "text": [
      "Rate limit reached. Sleeping for: 716\n"
     ]
    },
    {
     "name": "stdout",
     "output_type": "stream",
     "text": [
      "403 Forbidden\n",
      "63 - User has been suspended.\n",
      "404 Not Found\n",
      "50 - User not found.\n"
     ]
    },
    {
     "name": "stderr",
     "output_type": "stream",
     "text": [
      "Rate limit reached. Sleeping for: 713\n"
     ]
    },
    {
     "name": "stdout",
     "output_type": "stream",
     "text": [
      "404 Not Found\n",
      "50 - User not found.\n",
      "404 Not Found\n",
      "50 - User not found.\n"
     ]
    },
    {
     "name": "stderr",
     "output_type": "stream",
     "text": [
      "Rate limit reached. Sleeping for: 710\n"
     ]
    },
    {
     "name": "stdout",
     "output_type": "stream",
     "text": [
      "403 Forbidden\n",
      "63 - User has been suspended.\n",
      "404 Not Found\n",
      "50 - User not found.\n",
      "404 Not Found\n",
      "50 - User not found.\n"
     ]
    },
    {
     "name": "stderr",
     "output_type": "stream",
     "text": [
      "Rate limit reached. Sleeping for: 708\n"
     ]
    },
    {
     "name": "stdout",
     "output_type": "stream",
     "text": [
      "404 Not Found\n",
      "50 - User not found.\n",
      "404 Not Found\n",
      "50 - User not found.\n"
     ]
    },
    {
     "name": "stderr",
     "output_type": "stream",
     "text": [
      "Rate limit reached. Sleeping for: 683\n"
     ]
    },
    {
     "name": "stdout",
     "output_type": "stream",
     "text": [
      "404 Not Found\n",
      "50 - User not found.\n"
     ]
    },
    {
     "name": "stderr",
     "output_type": "stream",
     "text": [
      "Rate limit reached. Sleeping for: 726\n",
      "Rate limit reached. Sleeping for: 717\n",
      "Rate limit reached. Sleeping for: 683\n"
     ]
    }
   ],
   "source": [
    "anonfwr = {}\n",
    "\n",
    "for a in ausers:\n",
    "    anonfwr[a] = []\n",
    "    for u in flwrs[a]:\n",
    "        try:\n",
    "            user = api.get_user(user_id = u)\n",
    "            name = user.name.lower()\n",
    "            scrname = user.screen_name.lower()\n",
    "            if any(var in name for var in variations) or any(var in scrname for var in variations):\n",
    "                anonfwr[a].append(u)\n",
    "        except tweepy.errors.Forbidden as e:\n",
    "            print(e)\n",
    "        except tweepy.errors.NotFound as e:\n",
    "            print(e)"
   ]
  },
  {
   "cell_type": "code",
   "execution_count": 26,
   "id": "3f043333",
   "metadata": {},
   "outputs": [
    {
     "name": "stderr",
     "output_type": "stream",
     "text": [
      "Rate limit reached. Sleeping for: 691\n"
     ]
    },
    {
     "name": "stdout",
     "output_type": "stream",
     "text": [
      "404 Not Found\n",
      "50 - User not found.\n"
     ]
    },
    {
     "name": "stderr",
     "output_type": "stream",
     "text": [
      "Rate limit reached. Sleeping for: 686\n",
      "Rate limit reached. Sleeping for: 684\n"
     ]
    }
   ],
   "source": [
    "anonfwg = {}\n",
    "\n",
    "for a in ausers:\n",
    "    anonfwg[a] = []\n",
    "    for u in flwng[a]:\n",
    "        try:\n",
    "            user = api.get_user(user_id = u)\n",
    "            name = user.name.lower()\n",
    "            scrname = user.screen_name.lower()\n",
    "            if any(var in name for var in variations) or any(var in scrname for var in variations):\n",
    "                anonfwg[a].append(u)\n",
    "        except tweepy.errors.Forbidden as e:\n",
    "            print(e)\n",
    "        except tweepy.errors.NotFound as e:\n",
    "            print(e)"
   ]
  },
  {
   "cell_type": "code",
   "execution_count": 27,
   "id": "e5979c44",
   "metadata": {},
   "outputs": [
    {
     "name": "stdout",
     "output_type": "stream",
     "text": [
      "AnonyOps 140 47\n",
      "YourAnonNews 53 82\n",
      "YourAnonCentral 41 66\n",
      "AnonPress 101 9\n"
     ]
    }
   ],
   "source": [
    "for a in ausers:\n",
    "    print(a, len(anonfwr[a]), len(anonfwg[a]))"
   ]
  },
  {
   "cell_type": "markdown",
   "id": "07e617bc",
   "metadata": {},
   "source": [
    "We don't want to run this again."
   ]
  },
  {
   "cell_type": "code",
   "execution_count": 28,
   "id": "10c5482b",
   "metadata": {},
   "outputs": [],
   "source": [
    "with open('anonfwr1.json', 'w') as f:\n",
    "    json.dump(anonfwr, f)\n",
    "with open('anonfwg1.json', 'w') as f:\n",
    "    json.dump(anonfwg, f)"
   ]
  },
  {
   "cell_type": "markdown",
   "id": "a60bc8b7",
   "metadata": {},
   "source": [
    "<a id=\"apply\"></a>\n",
    "**3. Applying DecisionTreeClassifier and RandomForestClassifier**  \n",
    "We can use accounts identified as Anonymous-affiliated to train these classifiers."
   ]
  },
  {
   "cell_type": "code",
   "execution_count": 14,
   "id": "691811bb",
   "metadata": {},
   "outputs": [],
   "source": [
    "import pandas as pd\n",
    "import sklearn"
   ]
  },
  {
   "cell_type": "code",
   "execution_count": 7,
   "id": "3e7a741d",
   "metadata": {},
   "outputs": [],
   "source": [
    "anonfwr1 = json.load(open('anonfwr1.json'))\n",
    "anonfwg1 = json.load(open('anonfwg1.json'))"
   ]
  },
  {
   "cell_type": "code",
   "execution_count": 12,
   "id": "2d7942ad",
   "metadata": {},
   "outputs": [
    {
     "name": "stdout",
     "output_type": "stream",
     "text": [
      "539\n"
     ]
    }
   ],
   "source": [
    "users = []\n",
    "for a in ausers:\n",
    "    users.extend(anonfwr1[a])\n",
    "    users.extend(anonfwg1[a])\n",
    "print(len(users))"
   ]
  },
  {
   "cell_type": "code",
   "execution_count": 16,
   "id": "c634420a",
   "metadata": {},
   "outputs": [
    {
     "data": {
      "text/html": [
       "<div>\n",
       "<style scoped>\n",
       "    .dataframe tbody tr th:only-of-type {\n",
       "        vertical-align: middle;\n",
       "    }\n",
       "\n",
       "    .dataframe tbody tr th {\n",
       "        vertical-align: top;\n",
       "    }\n",
       "\n",
       "    .dataframe thead th {\n",
       "        text-align: right;\n",
       "    }\n",
       "</style>\n",
       "<table border=\"1\" class=\"dataframe\">\n",
       "  <thead>\n",
       "    <tr style=\"text-align: right;\">\n",
       "      <th></th>\n",
       "      <th>0</th>\n",
       "    </tr>\n",
       "  </thead>\n",
       "  <tbody>\n",
       "    <tr>\n",
       "      <th>0</th>\n",
       "      <td>1434935899645566976</td>\n",
       "    </tr>\n",
       "    <tr>\n",
       "      <th>1</th>\n",
       "      <td>1469439375637241858</td>\n",
       "    </tr>\n",
       "    <tr>\n",
       "      <th>2</th>\n",
       "      <td>1429176781777555457</td>\n",
       "    </tr>\n",
       "    <tr>\n",
       "      <th>3</th>\n",
       "      <td>1401080776817471488</td>\n",
       "    </tr>\n",
       "    <tr>\n",
       "      <th>4</th>\n",
       "      <td>1468690875937169411</td>\n",
       "    </tr>\n",
       "    <tr>\n",
       "      <th>...</th>\n",
       "      <td>...</td>\n",
       "    </tr>\n",
       "    <tr>\n",
       "      <th>534</th>\n",
       "      <td>373157754</td>\n",
       "    </tr>\n",
       "    <tr>\n",
       "      <th>535</th>\n",
       "      <td>279390084</td>\n",
       "    </tr>\n",
       "    <tr>\n",
       "      <th>536</th>\n",
       "      <td>225712501</td>\n",
       "    </tr>\n",
       "    <tr>\n",
       "      <th>537</th>\n",
       "      <td>225235528</td>\n",
       "    </tr>\n",
       "    <tr>\n",
       "      <th>538</th>\n",
       "      <td>224257403</td>\n",
       "    </tr>\n",
       "  </tbody>\n",
       "</table>\n",
       "<p>539 rows × 1 columns</p>\n",
       "</div>"
      ],
      "text/plain": [
       "                       0\n",
       "0    1434935899645566976\n",
       "1    1469439375637241858\n",
       "2    1429176781777555457\n",
       "3    1401080776817471488\n",
       "4    1468690875937169411\n",
       "..                   ...\n",
       "534            373157754\n",
       "535            279390084\n",
       "536            225712501\n",
       "537            225235528\n",
       "538            224257403\n",
       "\n",
       "[539 rows x 1 columns]"
      ]
     },
     "execution_count": 16,
     "metadata": {},
     "output_type": "execute_result"
    }
   ],
   "source": [
    "df = pd.DataFrame(users)\n",
    "df"
   ]
  },
  {
   "cell_type": "code",
   "execution_count": null,
   "id": "14fe21d0",
   "metadata": {},
   "outputs": [],
   "source": []
  },
  {
   "cell_type": "markdown",
   "id": "e153a9b3",
   "metadata": {},
   "source": [
    "<a id=\"anon\"></a>\n",
    "**4. Collecting Anonymous-affiliated tweets that include emojis**"
   ]
  },
  {
   "cell_type": "code",
   "execution_count": null,
   "id": "f64d82bf",
   "metadata": {},
   "outputs": [],
   "source": []
  },
  {
   "cell_type": "markdown",
   "id": "6b2655e5",
   "metadata": {},
   "source": [
    "<a id=\"random\"></a>\n",
    "**5. Collecting randomly sampled tweets that include emojis**"
   ]
  },
  {
   "cell_type": "code",
   "execution_count": null,
   "id": "66d47a8a",
   "metadata": {},
   "outputs": [],
   "source": []
  }
 ],
 "metadata": {
  "kernelspec": {
   "display_name": "Python 3",
   "language": "python",
   "name": "python3"
  },
  "language_info": {
   "codemirror_mode": {
    "name": "ipython",
    "version": 3
   },
   "file_extension": ".py",
   "mimetype": "text/x-python",
   "name": "python",
   "nbconvert_exporter": "python",
   "pygments_lexer": "ipython3",
   "version": "3.9.5"
  }
 },
 "nbformat": 4,
 "nbformat_minor": 5
}
